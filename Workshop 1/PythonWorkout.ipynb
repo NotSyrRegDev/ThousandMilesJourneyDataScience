{
 "cells": [
  {
   "cell_type": "markdown",
   "id": "6e907352",
   "metadata": {},
   "source": [
    "\n",
    "# Python code for testing\n",
    "\n",
    "### this is just for testing\n"
   ]
  },
  {
   "cell_type": "code",
   "execution_count": null,
   "id": "814ed55c",
   "metadata": {},
   "outputs": [],
   "source": [
    "\n",
    "user_answer = int( input(\"What is your age ?\") )\n",
    "\n",
    "user_left = 90\n",
    "\n",
    "years_left = user_left - user_answer\n",
    "days_left = years_left * 365;\n",
    "week_left = years_left * 52;\n",
    "months_left = years_left * 12;\n",
    "\n",
    "print(f\"you have left {years_left} years and {months_left} months and {week_left} weeks  \") \n",
    "\n",
    "      \n",
    "\n"
   ]
  },
  {
   "cell_type": "code",
   "execution_count": null,
   "id": "9b307ea1",
   "metadata": {},
   "outputs": [],
   "source": []
  },
  {
   "cell_type": "code",
   "execution_count": null,
   "id": "6fbfebf4",
   "metadata": {},
   "outputs": [],
   "source": []
  },
  {
   "cell_type": "code",
   "execution_count": null,
   "id": "afb4f5d0",
   "metadata": {},
   "outputs": [],
   "source": []
  },
  {
   "cell_type": "code",
   "execution_count": null,
   "id": "87b5b679",
   "metadata": {},
   "outputs": [],
   "source": []
  },
  {
   "cell_type": "code",
   "execution_count": null,
   "id": "3d54bef9",
   "metadata": {},
   "outputs": [],
   "source": []
  },
  {
   "cell_type": "code",
   "execution_count": null,
   "id": "b76d1d35",
   "metadata": {},
   "outputs": [],
   "source": []
  }
 ],
 "metadata": {
  "kernelspec": {
   "display_name": "Python 3 (ipykernel)",
   "language": "python",
   "name": "python3"
  },
  "language_info": {
   "codemirror_mode": {
    "name": "ipython",
    "version": 3
   },
   "file_extension": ".py",
   "mimetype": "text/x-python",
   "name": "python",
   "nbconvert_exporter": "python",
   "pygments_lexer": "ipython3",
   "version": "3.9.13"
  }
 },
 "nbformat": 4,
 "nbformat_minor": 5
}
