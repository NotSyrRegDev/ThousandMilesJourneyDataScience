{
 "cells": [
  {
   "cell_type": "markdown",
   "id": "d46fcfed",
   "metadata": {},
   "source": [
    "sdsd"
   ]
  },
  {
   "cell_type": "code",
   "execution_count": null,
   "id": "f9e45ea6",
   "metadata": {},
   "outputs": [],
   "source": []
  },
  {
   "cell_type": "markdown",
   "id": "b102c24c",
   "metadata": {},
   "source": [
    "# This is our very test\n",
    "\n",
    "## final test"
   ]
  },
  {
   "cell_type": "code",
   "execution_count": 1,
   "id": "299c2ef4",
   "metadata": {},
   "outputs": [],
   "source": [
    "x = \"string\"\n",
    "\n",
    "y = \"not string\"\n",
    "\n",
    "z = 15"
   ]
  },
  {
   "cell_type": "code",
   "execution_count": 2,
   "id": "02fc68a9",
   "metadata": {},
   "outputs": [
    {
     "name": "stdout",
     "output_type": "stream",
     "text": [
      "string\n"
     ]
    }
   ],
   "source": [
    "print(x)"
   ]
  },
  {
   "cell_type": "code",
   "execution_count": 3,
   "id": "99851e84",
   "metadata": {},
   "outputs": [
    {
     "name": "stdout",
     "output_type": "stream",
     "text": [
      "not string\n"
     ]
    }
   ],
   "source": [
    "print(y)"
   ]
  },
  {
   "cell_type": "code",
   "execution_count": 4,
   "id": "572c3e38",
   "metadata": {},
   "outputs": [
    {
     "name": "stdout",
     "output_type": "stream",
     "text": [
      "15\n"
     ]
    }
   ],
   "source": [
    "print(z)"
   ]
  },
  {
   "cell_type": "code",
   "execution_count": 5,
   "id": "848a1972",
   "metadata": {},
   "outputs": [
    {
     "name": "stdout",
     "output_type": "stream",
     "text": [
      "enter your age20\n"
     ]
    },
    {
     "ename": "TypeError",
     "evalue": "can only concatenate str (not \"int\") to str",
     "output_type": "error",
     "traceback": [
      "\u001b[1;31m---------------------------------------------------------------------------\u001b[0m",
      "\u001b[1;31mTypeError\u001b[0m                                 Traceback (most recent call last)",
      "\u001b[1;32m~\\AppData\\Local\\Temp\\ipykernel_13164\\3871990253.py\u001b[0m in \u001b[0;36m<module>\u001b[1;34m\u001b[0m\n\u001b[0;32m      1\u001b[0m \u001b[0mage\u001b[0m \u001b[1;33m=\u001b[0m \u001b[0minput\u001b[0m\u001b[1;33m(\u001b[0m\u001b[1;34m\"enter your age\"\u001b[0m\u001b[1;33m)\u001b[0m\u001b[1;33m\u001b[0m\u001b[1;33m\u001b[0m\u001b[0m\n\u001b[0;32m      2\u001b[0m \u001b[1;33m\u001b[0m\u001b[0m\n\u001b[1;32m----> 3\u001b[1;33m \u001b[0mage\u001b[0m \u001b[1;33m+=\u001b[0m \u001b[1;36m50\u001b[0m\u001b[1;33m\u001b[0m\u001b[1;33m\u001b[0m\u001b[0m\n\u001b[0m",
      "\u001b[1;31mTypeError\u001b[0m: can only concatenate str (not \"int\") to str"
     ]
    }
   ],
   "source": [
    "age = input(\"enter your age\")\n",
    "\n",
    "age += 50"
   ]
  },
  {
   "cell_type": "code",
   "execution_count": 6,
   "id": "e1f222ed",
   "metadata": {},
   "outputs": [
    {
     "name": "stdout",
     "output_type": "stream",
     "text": [
      "What is your current age ?21\n",
      "you have 18285 days , 3588 weeks and 828 months and you have 69 years \n"
     ]
    }
   ],
   "source": [
    "age = input(\"What is your current age ?\")\n",
    "\n",
    "\n",
    "# write code \n",
    "int_age = int(age);\n",
    "\n",
    "years_remainig = 90 - int_age\n",
    "\n",
    "days_remaining = years_remainig * 265\n",
    "weeks_remaining = years_remainig * 52\n",
    "months_remaining = years_remainig * 12\n",
    "\n",
    "\n",
    "print(f\"you have {days_remaining} days , {weeks_remaining} weeks and {months_remaining} months and you have {years_remainig} years \")\n",
    "\n"
   ]
  },
  {
   "cell_type": "code",
   "execution_count": null,
   "id": "06f1f790",
   "metadata": {},
   "outputs": [],
   "source": []
  }
 ],
 "metadata": {
  "kernelspec": {
   "display_name": "Python 3 (ipykernel)",
   "language": "python",
   "name": "python3"
  },
  "language_info": {
   "codemirror_mode": {
    "name": "ipython",
    "version": 3
   },
   "file_extension": ".py",
   "mimetype": "text/x-python",
   "name": "python",
   "nbconvert_exporter": "python",
   "pygments_lexer": "ipython3",
   "version": "3.9.13"
  }
 },
 "nbformat": 4,
 "nbformat_minor": 5
}
