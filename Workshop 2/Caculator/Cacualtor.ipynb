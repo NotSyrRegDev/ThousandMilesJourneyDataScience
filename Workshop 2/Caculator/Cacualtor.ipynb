{
 "cells": [
  {
   "cell_type": "code",
   "execution_count": 1,
   "id": "55b51742",
   "metadata": {},
   "outputs": [
    {
     "name": "stdout",
     "output_type": "stream",
     "text": [
      "hello\n"
     ]
    }
   ],
   "source": [
    "print(\"hello\")"
   ]
  },
  {
   "cell_type": "code",
   "execution_count": 4,
   "id": "b6ff1893",
   "metadata": {},
   "outputs": [
    {
     "name": "stdout",
     "output_type": "stream",
     "text": [
      "What is the first number ? 15\n",
      "What is the second number ? 10\n",
      "+\n",
      "-\n",
      "/\n",
      "*\n",
      "Pik an operation from the line above/\n",
      "1.5\n"
     ]
    }
   ],
   "source": [
    "\n",
    "## INPUTS FROM USER\n",
    "num1 = int(input(\"What is the first number ? \"))\n",
    "num2 = int(input(\"What is the second number ? \"))\n",
    "\n",
    "# FUNCTIONS \n",
    "\n",
    "def add(n1 , n2):\n",
    "    return n1 + n2\n",
    "\n",
    "\n",
    "def subsctract(n1 , n2):\n",
    "    return n1 - n2\n",
    "\n",
    "def divider(n1 , n2):\n",
    "    return n1 / n2\n",
    "\n",
    "def multiply(n1 , n2):\n",
    "    return n1 * n2\n",
    "\n",
    "# OPERATOONS OBJECT\n",
    "\n",
    "operations = {\n",
    "    \"+\": add,\n",
    "    \"-\": subsctract,\n",
    "    \"/\": divider,\n",
    "    \"*\": multiply\n",
    "}\n",
    "\n",
    "# LOOP THROUGHT OPERATIONS AND DISPLAY SYMBOL\n",
    "\n",
    "for symbol in operations:\n",
    "    print(symbol)\n",
    "    \n",
    "\n",
    "operation_symbol = input(\"Pik an operation from the line above\")\n",
    "\n",
    "calculation_function = operations[operation_symbol]\n",
    "\n",
    "answer = calculation_function(num1 , num2)\n",
    "print(answer)\n",
    "\n",
    "\n",
    "\n",
    "\n"
   ]
  },
  {
   "cell_type": "code",
   "execution_count": null,
   "id": "660faed0",
   "metadata": {},
   "outputs": [],
   "source": []
  },
  {
   "cell_type": "code",
   "execution_count": null,
   "id": "b1dd3246",
   "metadata": {},
   "outputs": [],
   "source": []
  },
  {
   "cell_type": "code",
   "execution_count": null,
   "id": "4527e63a",
   "metadata": {},
   "outputs": [],
   "source": []
  }
 ],
 "metadata": {
  "kernelspec": {
   "display_name": "Python 3 (ipykernel)",
   "language": "python",
   "name": "python3"
  },
  "language_info": {
   "codemirror_mode": {
    "name": "ipython",
    "version": 3
   },
   "file_extension": ".py",
   "mimetype": "text/x-python",
   "name": "python",
   "nbconvert_exporter": "python",
   "pygments_lexer": "ipython3",
   "version": "3.9.13"
  }
 },
 "nbformat": 4,
 "nbformat_minor": 5
}
